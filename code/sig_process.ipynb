{
 "cells": [
  {
   "cell_type": "markdown",
   "metadata": {},
   "source": [
    "# Libs"
   ]
  },
  {
   "cell_type": "code",
   "execution_count": null,
   "metadata": {
    "ExecuteTime": {
     "end_time": "2021-03-28T15:35:45.669807Z",
     "start_time": "2021-03-28T15:35:45.018512Z"
    }
   },
   "outputs": [],
   "source": [
    "from xml.dom.minidom import parse\n",
    "import xml.etree.ElementTree as ET\n",
    "import pandas as pd\n",
    "import matplotlib.pyplot as plt\n",
    "%matplotlib inline"
   ]
  },
  {
   "cell_type": "markdown",
   "metadata": {},
   "source": [
    "# Read File"
   ]
  },
  {
   "cell_type": "code",
   "execution_count": null,
   "metadata": {
    "ExecuteTime": {
     "end_time": "2021-03-28T15:35:45.824358Z",
     "start_time": "2021-03-28T15:35:45.817377Z"
    }
   },
   "outputs": [],
   "source": [
    "def read_prog(rootNode):\n",
    "\n",
    "    # generate record(list)\n",
    "    rec = []\n",
    "    for progs in rootNode.getElementsByTagName('progs'):\n",
    "        for prog_idx, program in enumerate(progs.getElementsByTagName('prog')):\n",
    "            cycle_len = program.getAttribute(\"cycletime\")\n",
    "            for sig_group in program.getElementsByTagName('sg'):\n",
    "                sig_group_id = sig_group.getAttribute(\"sg_id\")\n",
    "                gr = sig_group.getElementsByTagName('cmds')[0].getElementsByTagName('cmd')\n",
    "                for color in gr:\n",
    "                    c = color.getAttribute('display')\n",
    "                    t = color.getAttribute('begin')\n",
    "                    rec.append([prog_idx + 1, cycle_len, sig_group_id, c, t])\n",
    "    \n",
    "    # turn into pd.DataFrame format\n",
    "    prog = pd.DataFrame(rec, columns=['progId', 'cycleLen',\n",
    "                                      'sigGroup', 'display', 'beginTime'])\n",
    "    \n",
    "    # post-process\n",
    "    for col in prog.columns:\n",
    "        prog[col] = pd.to_numeric(prog[col])\n",
    "    \n",
    "    prog['cycleLen'] /= 1000\n",
    "    prog['beginTime'] /= 1000\n",
    "    prog = prog.astype(int)\n",
    "    prog['display'] = prog['display'].replace({3:'green', 1:'red'})\n",
    "    \n",
    "    return prog"
   ]
  },
  {
   "cell_type": "code",
   "execution_count": null,
   "metadata": {
    "ExecuteTime": {
     "end_time": "2021-03-28T15:50:11.816641Z",
     "start_time": "2021-03-28T15:50:11.800631Z"
    }
   },
   "outputs": [],
   "source": [
    "def viz_prog(filepath, progId=1, amber=3, ar=2):\n",
    "    \n",
    "    # read raw file\n",
    "    domTree = parse(filepath)\n",
    "    rootNode = domTree.documentElement\n",
    "    \n",
    "    # read programs from raw file\n",
    "    prog = read_prog(rootNode)\n",
    "    \n",
    "    # param init\n",
    "    ig = amber + ar # inter-green\n",
    "    fig = plt.figure(figsize=(7,5))\n",
    "    cycle = prog[prog.progId == progId]['cycleLen'].unique()[0]\n",
    "    do = 0.018 * cycle # display offset\n",
    "    \n",
    "    # main loop (visualize a signal group every time)\n",
    "    for idx, sg_id in enumerate(prog['sigGroup'].unique()):\n",
    "        sig_group = prog[prog.sigGroup == sg_id]\n",
    "        g_begin = sig_group[sig_group.display == 'green']['beginTime'].iloc[0]\n",
    "        g_end = sig_group[sig_group.display == 'red']['beginTime'].iloc[0]\n",
    "        \n",
    "        # print(\"[Info] signal group {:d}: from {:d} to {:d}\".format(sg_id, g_begin, g_end))\n",
    "        if g_end > g_begin:\n",
    "            plt.plot(range(0, g_begin + 1), np.tile(idx / 2, g_begin + 1), 'r', linewidth = 1)\n",
    "            plt.plot(range(g_end - ar, cycle + 1), np.tile(idx / 2, cycle - g_end + ar + 1), 'r', linewidth = 1)\n",
    "            plt.plot(range(g_begin, g_end - ig + 1), np.tile(idx / 2, g_end - g_begin - ig + 1), 'g', linewidth = 3)\n",
    "            plt.plot(range(g_end - ig, g_end - ar + 1), np.tile(idx / 2, amber + 1), 'gold', linewidth = 3)\n",
    "            plt.text(g_begin - do, idx / 2 + 0.1, str(g_begin))\n",
    "            plt.text(g_end - ar - do, idx / 2 + 0.1, str(g_end - ar))\n",
    "        elif g_end == 0:\n",
    "            plt.plot(range(0, g_begin + 1), np.tile(idx / 2, g_begin + 1), 'r', linewidth = 1)\n",
    "            plt.plot(range(cycle - ar, cycle + 1), np.tile(idx / 2, ar + 1), 'r', linewidth = 1)\n",
    "            plt.plot(range(g_begin, cycle - ar + 1), np.tile(idx / 2, cycle - g_begin - ar + 1), 'g', linewidth = 3)\n",
    "            plt.plot(range(cycle - ig, cycle - ar + 1), np.tile(idx / 2, amber + 1), 'gold', linewidth = 3)\n",
    "            plt.text(g_begin - do, idx / 2 + 0.1, str(g_begin))\n",
    "            plt.text(cycle - ar - do, idx / 2 + 0.1, str(cycle - ar))\n",
    "\n",
    "    plt.xlabel('Cycle Time (s)')\n",
    "    plt.ylabel('Signal Group (#)')\n",
    "    plt.xlim([-0.05 * cycle, 1.05 * cycle])\n",
    "    plt.ylim([-0.5,idx / 2 + 0.5])\n",
    "    plt.yticks(np.arange(0, 4, 0.5), np.arange(1,9))\n",
    "    plt.title(\"Cycle Length: {:d}s [Amber: {:d}s, All-Red: {:d}s]\".format(cycle, amber, ar))\n",
    "    \n",
    "    return fig"
   ]
  },
  {
   "cell_type": "code",
   "execution_count": null,
   "metadata": {
    "ExecuteTime": {
     "end_time": "2021-03-28T15:50:35.472373Z",
     "start_time": "2021-03-28T15:50:35.202063Z"
    }
   },
   "outputs": [],
   "source": [
    "# filepath\n",
    "filepath = '../data/晋陵北路-河海路.sig'\n",
    "domTree = parse(filepath)\n",
    "rootNode = domTree.documentElement\n",
    "\n",
    "# read programs from raw file\n",
    "progs = read_prog(rootNode)\n",
    "\n",
    "# visualize a program\n",
    "fig = viz_prog(filepath, progId=1)\n",
    "# plt.savefig('program.png',dpi=500)"
   ]
  },
  {
   "cell_type": "code",
   "execution_count": null,
   "metadata": {
    "ExecuteTime": {
     "end_time": "2021-03-28T15:55:27.000215Z",
     "start_time": "2021-03-28T15:55:26.989245Z"
    }
   },
   "outputs": [],
   "source": [
    "def get_target_prog(sc, progId):\n",
    "    return sc.find('progs').getchildren()[progId - 1]\n",
    "\n",
    "\n",
    "def update_offset(sc, progId, new_offset):\n",
    "    target_prog = get_target_prog(sc, progId)\n",
    "    cycle_len = target_prog.attrib['cycletime']\n",
    "    assert new_offset < int(cycle_len) / 1000\n",
    "    target_prog.attrib['offset'] = str(int(new_offset * 1000))\n",
    "    xmldoc.write(filepath, xml_declaration=True)\n",
    "    print(\"[Info] New offset for program {:d}: {:d}\".format(progId, new_offset))\n",
    "\n",
    "\n",
    "def update_green(sc, progId, new_green, viz=False):\n",
    "    \n",
    "    target_prog = get_target_prog(sc, progId)\n",
    "    cycle_len = target_prog.attrib['cycletime']\n",
    "    assert max(max(new_green)) <= int(cycle_len) / 1000\n",
    "    \n",
    "    # main loop (update a signal group every time)\n",
    "    prog_sgs = target_prog.find('sgs').getchildren()\n",
    "    for sg_idx, sg in enumerate(prog_sgs):\n",
    "        for color in sg.find('cmds'):\n",
    "            if color.attrib['display'] == '3':\n",
    "                color.attrib['begin'] = str(int(1000 * new_green[0][sg_idx]))\n",
    "            elif color.attrib['display'] == '1':\n",
    "                color.attrib['begin'] = str(int(1000 * new_green[1][sg_idx]))\n",
    "    xmldoc.write(filepath, xml_declaration=True)\n",
    "    \n",
    "    if viz:\n",
    "        viz_prog(filepath, progId=progId)\n",
    "\n",
    "\n",
    "# def update_cycle(sc, progId, new_cycle, new_green, viz=False):"
   ]
  },
  {
   "cell_type": "code",
   "execution_count": null,
   "metadata": {
    "ExecuteTime": {
     "end_time": "2021-03-28T15:56:54.065429Z",
     "start_time": "2021-03-28T15:56:53.803131Z"
    },
    "scrolled": false
   },
   "outputs": [],
   "source": [
    "xmldoc = ET.parse(filepath)\n",
    "sc = xmldoc.getroot()\n",
    "num_sgs = len(sc.find('sgs').getchildren())\n",
    "new_green = [[24,24,0,0,79,79,60,60], # g_begin\n",
    "             [60,60,24,24,0,0,79,79]] # g_end\n",
    "\n",
    "\n",
    "update_offset(sc, 1, new_offset=0)\n",
    "update_green(sc, 1, new_green, viz=True)"
   ]
  }
 ],
 "metadata": {
  "hide_input": false,
  "kernelspec": {
   "display_name": "Python 3",
   "language": "python",
   "name": "python3"
  },
  "language_info": {
   "codemirror_mode": {
    "name": "ipython",
    "version": 3
   },
   "file_extension": ".py",
   "mimetype": "text/x-python",
   "name": "python",
   "nbconvert_exporter": "python",
   "pygments_lexer": "ipython3",
   "version": "3.6.4rc1"
  },
  "latex_envs": {
   "LaTeX_envs_menu_present": true,
   "autoclose": false,
   "autocomplete": true,
   "bibliofile": "biblio.bib",
   "cite_by": "apalike",
   "current_citInitial": 1,
   "eqLabelWithNumbers": true,
   "eqNumInitial": 1,
   "hotkeys": {
    "equation": "Ctrl-E",
    "itemize": "Ctrl-I"
   },
   "labels_anchors": false,
   "latex_user_defs": false,
   "report_style_numbering": false,
   "user_envs_cfg": false
  },
  "toc": {
   "base_numbering": 1,
   "nav_menu": {},
   "number_sections": true,
   "sideBar": true,
   "skip_h1_title": false,
   "title_cell": "Table of Contents",
   "title_sidebar": "Contents",
   "toc_cell": false,
   "toc_position": {},
   "toc_section_display": true,
   "toc_window_display": false
  },
  "varInspector": {
   "cols": {
    "lenName": 16,
    "lenType": 16,
    "lenVar": 40
   },
   "kernels_config": {
    "python": {
     "delete_cmd_postfix": "",
     "delete_cmd_prefix": "del ",
     "library": "var_list.py",
     "varRefreshCmd": "print(var_dic_list())"
    },
    "r": {
     "delete_cmd_postfix": ") ",
     "delete_cmd_prefix": "rm(",
     "library": "var_list.r",
     "varRefreshCmd": "cat(var_dic_list()) "
    }
   },
   "types_to_exclude": [
    "module",
    "function",
    "builtin_function_or_method",
    "instance",
    "_Feature"
   ],
   "window_display": false
  }
 },
 "nbformat": 4,
 "nbformat_minor": 2
}
