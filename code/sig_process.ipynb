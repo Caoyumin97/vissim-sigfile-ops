{
 "cells": [
  {
   "cell_type": "code",
   "execution_count": 76,
   "metadata": {
    "ExecuteTime": {
     "end_time": "2020-10-27T15:03:00.793860Z",
     "start_time": "2020-10-27T15:03:00.789871Z"
    }
   },
   "outputs": [],
   "source": [
    "from xml.dom.minidom import parse\n",
    "import pandas as pd\n",
    "import numpy as np"
   ]
  },
  {
   "cell_type": "code",
   "execution_count": 110,
   "metadata": {
    "ExecuteTime": {
     "end_time": "2020-10-27T15:14:02.837799Z",
     "start_time": "2020-10-27T15:14:02.814700Z"
    }
   },
   "outputs": [],
   "source": [
    "domTree = parse('./晋陵北路-河海路.sig')\n",
    "rootNode = domTree.documentElement\n",
    "rec = []\n",
    "for progs in rootNode.getElementsByTagName('progs'):\n",
    "    for prog_idx, program in enumerate(sgs.getElementsByTagName('prog')):\n",
    "        cycle_len = program.getAttribute(\"cycletime\")\n",
    "        for sig_group in program.getElementsByTagName('sg'):\n",
    "            sig_group_id = sig_group.getAttribute(\"sg_id\")\n",
    "            gr = sig_group.getElementsByTagName('cmds')[0].getElementsByTagName('cmd')\n",
    "            for color in gr:\n",
    "                c = color.getAttribute('display')\n",
    "                t = color.getAttribute('begin')\n",
    "                rec.append([prog_idx + 1, cycle_len, sig_group_id, c, t])"
   ]
  },
  {
   "cell_type": "code",
   "execution_count": 111,
   "metadata": {
    "ExecuteTime": {
     "end_time": "2020-10-27T15:14:03.232244Z",
     "start_time": "2020-10-27T15:14:03.221279Z"
    }
   },
   "outputs": [],
   "source": [
    "sc = pd.DataFrame(rec, columns=['todId', 'cycleLen',\n",
    "                                'sigGroup', 'display', 'beginTime'])\n",
    "for col in sc.columns:\n",
    "    sc[col] = pd.to_numeric(sc[col])"
   ]
  },
  {
   "cell_type": "code",
   "execution_count": 112,
   "metadata": {
    "ExecuteTime": {
     "end_time": "2020-10-27T15:14:03.692149Z",
     "start_time": "2020-10-27T15:14:03.685123Z"
    }
   },
   "outputs": [],
   "source": [
    "sc['cycleLen'] /= 1000\n",
    "sc['beginTime'] /= 1000\n",
    "sc = sc.astype(int)"
   ]
  },
  {
   "cell_type": "code",
   "execution_count": 113,
   "metadata": {
    "ExecuteTime": {
     "end_time": "2020-10-27T15:14:04.168866Z",
     "start_time": "2020-10-27T15:14:04.164838Z"
    }
   },
   "outputs": [],
   "source": [
    "import matplotlib.pyplot as plt\n",
    "%matplotlib inline"
   ]
  },
  {
   "cell_type": "code",
   "execution_count": 140,
   "metadata": {
    "ExecuteTime": {
     "end_time": "2020-10-27T15:21:46.491510Z",
     "start_time": "2020-10-27T15:21:46.300022Z"
    }
   },
   "outputs": [
    {
     "data": {
      "text/plain": [
       "(-1, 105)"
      ]
     },
     "execution_count": 140,
     "metadata": {},
     "output_type": "execute_result"
    },
    {
     "data": {
      "image/png": "[encoded data removed]",
      "text/plain": [
       "<Figure size 432x288 with 1 Axes>"
      ]
     },
     "metadata": {
      "needs_background": "light"
     },
     "output_type": "display_data"
    }
   ],
   "source": [
    "# for i in range(len(sc)):\n",
    "cycle = sc[sc.todId == 1]['cycleLen'].unique()[0]\n",
    "for idx, sg_id in enumerate(sc['sigGroup'].unique()):\n",
    "    sig_group = sc[sc.sigGroup == sg_id]\n",
    "    green = sig_group[sig_group.display == 3]['beginTime'].iloc[0]\n",
    "    red = sig_group[sig_group.display == 1]['beginTime'].iloc[0]\n",
    "    \n",
    "    if red > green:\n",
    "        plt.plot(range(0, green), np.tile(idx, green), 'r', linewidth = 5)\n",
    "        plt.plot(range(red, cycle), np.tile(idx, cycle - red), 'r', linewidth = 5)\n",
    "        plt.plot(range(green, red), np.tile(idx, red - green), 'g', linewidth = 8)\n",
    "    elif red == 0:\n",
    "        plt.plot(range(0, green), np.tile(idx, green), 'r', linewidth = 5)\n",
    "        plt.plot(range(green, cycle), np.tile(idx, cycle - green), 'g', linewidth = 8)\n",
    "        \n",
    "plt.ylim([-1,idx + 1])\n",
    "plt.xlim([-1,cycle + 1])"
   ]
  }
 ],
 "metadata": {
  "hide_input": false,
  "kernelspec": {
   "display_name": "Python 3",
   "language": "python",
   "name": "python3"
  },
  "language_info": {
   "codemirror_mode": {
    "name": "ipython",
    "version": 3
   },
   "file_extension": ".py",
   "mimetype": "text/x-python",
   "name": "python",
   "nbconvert_exporter": "python",
   "pygments_lexer": "ipython3",
   "version": "3.6.4rc1"
  },
  "latex_envs": {
   "LaTeX_envs_menu_present": true,
   "autoclose": false,
   "autocomplete": true,
   "bibliofile": "biblio.bib",
   "cite_by": "apalike",
   "current_citInitial": 1,
   "eqLabelWithNumbers": true,
   "eqNumInitial": 1,
   "hotkeys": {
    "equation": "Ctrl-E",
    "itemize": "Ctrl-I"
   },
   "labels_anchors": false,
   "latex_user_defs": false,
   "report_style_numbering": false,
   "user_envs_cfg": false
  },
  "toc": {
   "base_numbering": 1,
   "nav_menu": {},
   "number_sections": true,
   "sideBar": true,
   "skip_h1_title": false,
   "title_cell": "Table of Contents",
   "title_sidebar": "Contents",
   "toc_cell": false,
   "toc_position": {},
   "toc_section_display": true,
   "toc_window_display": false
  },
  "varInspector": {
   "cols": {
    "lenName": 16,
    "lenType": 16,
    "lenVar": 40
   },
   "kernels_config": {
    "python": {
     "delete_cmd_postfix": "",
     "delete_cmd_prefix": "del ",
     "library": "var_list.py",
     "varRefreshCmd": "print(var_dic_list())"
    },
    "r": {
     "delete_cmd_postfix": ") ",
     "delete_cmd_prefix": "rm(",
     "library": "var_list.r",
     "varRefreshCmd": "cat(var_dic_list()) "
    }
   },
   "types_to_exclude": [
    "module",
    "function",
    "builtin_function_or_method",
    "instance",
    "_Feature"
   ],
   "window_display": false
  }
 },
 "nbformat": 4,
 "nbformat_minor": 2
}
