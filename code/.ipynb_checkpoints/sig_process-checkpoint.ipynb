{
 "cells": [
  {
   "cell_type": "markdown",
   "metadata": {},
   "source": [
    "# Libs"
   ]
  },
  {
   "cell_type": "code",
   "execution_count": null,
   "metadata": {
    "ExecuteTime": {
     "end_time": "2021-03-28T09:07:35.362977Z",
     "start_time": "2021-03-28T09:07:34.786977Z"
    }
   },
   "outputs": [],
   "source": [
    "from xml.dom.minidom import parse\n",
    "import pandas as pd\n",
    "import matplotlib.pyplot as plt\n",
    "%matplotlib inline"
   ]
  },
  {
   "cell_type": "markdown",
   "metadata": {},
   "source": [
    "# Read File"
   ]
  },
  {
   "cell_type": "code",
   "execution_count": null,
   "metadata": {
    "ExecuteTime": {
     "end_time": "2021-03-28T09:05:20.538978Z",
     "start_time": "2021-03-28T09:05:20.530977Z"
    }
   },
   "outputs": [],
   "source": [
    "def read_prog(rootNode):\n",
    "\n",
    "    # generate record(list)\n",
    "    rec = []\n",
    "    for progs in rootNode.getElementsByTagName('progs'):\n",
    "        for prog_idx, program in enumerate(progs.getElementsByTagName('prog')):\n",
    "            cycle_len = program.getAttribute(\"cycletime\")\n",
    "            for sig_group in program.getElementsByTagName('sg'):\n",
    "                sig_group_id = sig_group.getAttribute(\"sg_id\")\n",
    "                gr = sig_group.getElementsByTagName('cmds')[0].getElementsByTagName('cmd')\n",
    "                for color in gr:\n",
    "                    c = color.getAttribute('display')\n",
    "                    t = color.getAttribute('begin')\n",
    "                    rec.append([prog_idx + 1, cycle_len, sig_group_id, c, t])\n",
    "    \n",
    "    # turn into pd.DataFrame format\n",
    "    prog = pd.DataFrame(rec, columns=['progId', 'cycleLen',\n",
    "                                      'sigGroup', 'display', 'beginTime'])\n",
    "    \n",
    "    # post-process\n",
    "    for col in prog.columns:\n",
    "        prog[col] = pd.to_numeric(prog[col])\n",
    "    \n",
    "    prog['cycleLen'] /= 1000\n",
    "    prog['beginTime'] /= 1000\n",
    "    prog = prog.astype(int)\n",
    "    prog['display'] = prog['display'].replace({3:'green', 1:'red'})\n",
    "    \n",
    "    return prog"
   ]
  },
  {
   "cell_type": "code",
   "execution_count": null,
   "metadata": {
    "ExecuteTime": {
     "end_time": "2021-03-28T09:14:50.197978Z",
     "start_time": "2021-03-28T09:14:50.188979Z"
    }
   },
   "outputs": [],
   "source": [
    "def viz_prog(prog, progId=1):\n",
    "    \n",
    "    fig = plt.figure(figsize=(7,5))\n",
    "    cycle = prog[prog.progId == progId]['cycleLen'].unique()[0]\n",
    "    for idx, sg_id in enumerate(prog['sigGroup'].unique()):\n",
    "        sig_group = prog[prog.sigGroup == sg_id]\n",
    "        g_duration = sig_group[sig_group.display == 'green']['beginTime'].iloc[0]\n",
    "        r_duration = sig_group[sig_group.display == 'red']['beginTime'].iloc[0]\n",
    "\n",
    "        if r_duration > g_duration:\n",
    "            plt.plot(range(0, g_duration), np.tile(idx, g_duration), 'r', linewidth = 5)\n",
    "            plt.plot(range(r_duration, cycle), np.tile(idx, cycle - r_duration), 'r', linewidth = 5)\n",
    "            plt.plot(range(g_duration, r_duration), np.tile(idx, r_duration - g_duration), 'g', linewidth = 8)\n",
    "        elif r_duration == 0:\n",
    "            plt.plot(range(0, g_duration), np.tile(idx, g_duration), 'r', linewidth = 5)\n",
    "            plt.plot(range(g_duration, cycle), np.tile(idx, cycle - g_duration), 'g', linewidth = 8)\n",
    "\n",
    "    plt.xlabel('Cycle Time (s)')\n",
    "    plt.ylabel('Signal Group (#)')\n",
    "    plt.xlim([0,cycle])\n",
    "    plt.ylim([-0.5,idx + 0.5])\n",
    "    plt.yticks(np.arange(8), np.flip(np.arange(1,9)))\n",
    "    \n",
    "    return fig"
   ]
  },
  {
   "cell_type": "code",
   "execution_count": null,
   "metadata": {
    "ExecuteTime": {
     "end_time": "2021-03-28T09:14:50.800006Z",
     "start_time": "2021-03-28T09:14:50.610977Z"
    }
   },
   "outputs": [],
   "source": [
    "# read raw file\n",
    "filepath = '../data/晋陵北路-河海路.sig'\n",
    "domTree = parse(filepath)\n",
    "rootNode = domTree.documentElement\n",
    "\n",
    "# read programs from raw file\n",
    "progs = read_prog(rootNode)\n",
    "\n",
    "# visualize a program\n",
    "fig = viz_prog(progs, progId=2)"
   ]
  }
 ],
 "metadata": {
  "hide_input": false,
  "kernelspec": {
   "display_name": "Python 3",
   "language": "python",
   "name": "python3"
  },
  "language_info": {
   "codemirror_mode": {
    "name": "ipython",
    "version": 3
   },
   "file_extension": ".py",
   "mimetype": "text/x-python",
   "name": "python",
   "nbconvert_exporter": "python",
   "pygments_lexer": "ipython3",
   "version": "3.6.7"
  },
  "latex_envs": {
   "LaTeX_envs_menu_present": true,
   "autoclose": false,
   "autocomplete": true,
   "bibliofile": "biblio.bib",
   "cite_by": "apalike",
   "current_citInitial": 1,
   "eqLabelWithNumbers": true,
   "eqNumInitial": 1,
   "hotkeys": {
    "equation": "Ctrl-E",
    "itemize": "Ctrl-I"
   },
   "labels_anchors": false,
   "latex_user_defs": false,
   "report_style_numbering": false,
   "user_envs_cfg": false
  },
  "toc": {
   "base_numbering": 1,
   "nav_menu": {},
   "number_sections": true,
   "sideBar": true,
   "skip_h1_title": false,
   "title_cell": "Table of Contents",
   "title_sidebar": "Contents",
   "toc_cell": false,
   "toc_position": {},
   "toc_section_display": true,
   "toc_window_display": false
  },
  "varInspector": {
   "cols": {
    "lenName": 16,
    "lenType": 16,
    "lenVar": 40
   },
   "kernels_config": {
    "python": {
     "delete_cmd_postfix": "",
     "delete_cmd_prefix": "del ",
     "library": "var_list.py",
     "varRefreshCmd": "print(var_dic_list())"
    },
    "r": {
     "delete_cmd_postfix": ") ",
     "delete_cmd_prefix": "rm(",
     "library": "var_list.r",
     "varRefreshCmd": "cat(var_dic_list()) "
    }
   },
   "types_to_exclude": [
    "module",
    "function",
    "builtin_function_or_method",
    "instance",
    "_Feature"
   ],
   "window_display": false
  }
 },
 "nbformat": 4,
 "nbformat_minor": 2
}
